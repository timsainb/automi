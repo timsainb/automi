{
 "cells": [
  {
   "cell_type": "markdown",
   "id": "971e9a07",
   "metadata": {},
   "source": [
    "# autoMI on Drosophila behavioral states\n",
    "This notebooks looks at Drosophila behaviors. Behaviors are quantified as MotionMapper states from Berman et al (linked below). \n",
    "\n",
    "The MI decay isn't perfectly well fit by any of the models we have seen in the previous notebooks (powerlaw, exponential, or combined). We demonstate a best-fit model comparison with these models. \n",
    "\n",
    "See\n",
    "- [Predictability and hierarchy in Drosophila behavior. G Berman, W Bialek, JW Shaevitz, (2016) PNAS](https://www.pnas.org/content/113/42/11943.full)"
   ]
  },
  {
   "cell_type": "code",
   "execution_count": 1,
   "id": "d6e4e570",
   "metadata": {},
   "outputs": [],
   "source": [
    "%load_ext autoreload\n",
    "%autoreload 2"
   ]
  },
  {
   "cell_type": "code",
   "execution_count": 2,
   "id": "b0ab4329",
   "metadata": {},
   "outputs": [],
   "source": [
    "from matplotlib import mlab\n",
    "import matplotlib.pyplot as plt\n",
    "import numpy as np\n",
    "from tqdm.auto import tqdm\n",
    "from scipy.io import loadmat"
   ]
  },
  {
   "cell_type": "markdown",
   "id": "6de9a8e2",
   "metadata": {},
   "source": [
    "### Load dataset"
   ]
  },
  {
   "cell_type": "code",
   "execution_count": 3,
   "id": "982ea475",
   "metadata": {},
   "outputs": [],
   "source": [
    "mat_file = '../assets/berman_drosophila-transition_data.mat'"
   ]
  },
  {
   "cell_type": "code",
   "execution_count": 4,
   "id": "9904896e",
   "metadata": {},
   "outputs": [],
   "source": [
    "ds = loadmat(mat_file)"
   ]
  },
  {
   "cell_type": "code",
   "execution_count": 5,
   "id": "6640dd51",
   "metadata": {},
   "outputs": [],
   "source": [
    "states = [np.concatenate(np.concatenate(i)) for i in ds['transition_states']]\\"
   ]
  },
  {
   "cell_type": "code",
   "execution_count": 6,
   "id": "844066a2",
   "metadata": {},
   "outputs": [
    {
     "data": {
      "text/plain": [
       "59"
      ]
     },
     "execution_count": 6,
     "metadata": {},
     "output_type": "execute_result"
    }
   ],
   "source": [
    "len(states)"
   ]
  },
  {
   "cell_type": "code",
   "execution_count": 7,
   "id": "c8cadee4",
   "metadata": {},
   "outputs": [
    {
     "data": {
      "text/plain": [
       "117"
      ]
     },
     "execution_count": 7,
     "metadata": {},
     "output_type": "execute_result"
    }
   ],
   "source": [
    "len(np.unique(np.concatenate(states)))"
   ]
  },
  {
   "cell_type": "code",
   "execution_count": 8,
   "id": "c45959bd",
   "metadata": {},
   "outputs": [
    {
     "data": {
      "text/plain": [
       "10803"
      ]
     },
     "execution_count": 8,
     "metadata": {},
     "output_type": "execute_result"
    }
   ],
   "source": [
    "len(states[0])"
   ]
  },
  {
   "cell_type": "markdown",
   "id": "54f1d6f1",
   "metadata": {},
   "source": [
    "### compute autoMI decay"
   ]
  },
  {
   "cell_type": "code",
   "execution_count": 9,
   "id": "906f2d96",
   "metadata": {},
   "outputs": [],
   "source": [
    "from automi import sequential_mutual_information as smi"
   ]
  },
  {
   "cell_type": "code",
   "execution_count": 10,
   "id": "ec61b153",
   "metadata": {},
   "outputs": [],
   "source": [
    "range_ = np.arange(1,1001)"
   ]
  },
  {
   "cell_type": "code",
   "execution_count": 11,
   "id": "8dfb9452",
   "metadata": {},
   "outputs": [
    {
     "data": {
      "application/vnd.jupyter.widget-view+json": {
       "model_id": "",
       "version_major": 2,
       "version_minor": 0
      },
      "text/plain": [
       "  0%|          | 0/1000 [00:00<?, ?it/s]"
      ]
     },
     "metadata": {},
     "output_type": "display_data"
    },
    {
     "name": "stderr",
     "output_type": "stream",
     "text": [
      "[Parallel(n_jobs=-1)]: Using backend LokyBackend with 8 concurrent workers.\n",
      "[Parallel(n_jobs=-1)]: Done   2 tasks      | elapsed:    1.0s\n",
      "[Parallel(n_jobs=-1)]: Done  56 tasks      | elapsed:    2.4s\n",
      "[Parallel(n_jobs=-1)]: Done 146 tasks      | elapsed:    4.5s\n",
      "[Parallel(n_jobs=-1)]: Done 272 tasks      | elapsed:    7.4s\n",
      "[Parallel(n_jobs=-1)]: Done 434 tasks      | elapsed:   10.9s\n",
      "[Parallel(n_jobs=-1)]: Done 632 tasks      | elapsed:   15.1s\n",
      "[Parallel(n_jobs=-1)]: Done 866 tasks      | elapsed:   20.0s\n",
      "[Parallel(n_jobs=-1)]: Done 1000 out of 1000 | elapsed:   22.7s finished\n"
     ]
    },
    {
     "data": {
      "application/vnd.jupyter.widget-view+json": {
       "model_id": "",
       "version_major": 2,
       "version_minor": 0
      },
      "text/plain": [
       "  0%|          | 0/1000 [00:00<?, ?it/s]"
      ]
     },
     "metadata": {},
     "output_type": "display_data"
    },
    {
     "name": "stderr",
     "output_type": "stream",
     "text": [
      "[Parallel(n_jobs=-1)]: Using backend LokyBackend with 8 concurrent workers.\n",
      "[Parallel(n_jobs=-1)]: Done   2 tasks      | elapsed:    0.2s\n",
      "[Parallel(n_jobs=-1)]: Done  56 tasks      | elapsed:    1.7s\n",
      "[Parallel(n_jobs=-1)]: Done 146 tasks      | elapsed:    4.3s\n",
      "[Parallel(n_jobs=-1)]: Done 272 tasks      | elapsed:    7.6s\n",
      "[Parallel(n_jobs=-1)]: Done 434 tasks      | elapsed:   11.9s\n",
      "[Parallel(n_jobs=-1)]: Done 632 tasks      | elapsed:   16.9s\n",
      "[Parallel(n_jobs=-1)]: Done 866 tasks      | elapsed:   22.7s\n",
      "[Parallel(n_jobs=-1)]: Done 1000 out of 1000 | elapsed:   26.1s finished\n"
     ]
    }
   ],
   "source": [
    "(MI, _), (shuff_MI, _) = smi(\n",
    "    states, distances=range_\n",
    ")"
   ]
  },
  {
   "cell_type": "code",
   "execution_count": 12,
   "id": "84215d5b",
   "metadata": {},
   "outputs": [
    {
     "data": {
      "image/png": "[encoded data removed]",
      "text/plain": [
       "<Figure size 720x360 with 2 Axes>"
      ]
     },
     "metadata": {
      "needs_background": "light"
     },
     "output_type": "display_data"
    }
   ],
   "source": [
    "fig, axs = plt.subplots(ncols=2, figsize=(10,5))\n",
    "ax = axs[0]\n",
    "ax.plot(range_, MI - shuff_MI)\n",
    "ax.set_yscale('log')\n",
    "ax.set_xscale('log')\n",
    "ax.set_xlabel('MI')\n",
    "ax.set_xlabel('Sequential distance / lag')\n",
    "ax.set_ylabel('MI')\n",
    "ax.grid(which='both')\n",
    "\n",
    "ax = axs[1]\n",
    "ax.plot(range_, MI - shuff_MI)\n",
    "ax.set_xlabel('MI')\n",
    "ax.set_xlabel('Sequential distance / lag')\n",
    "ax.set_ylabel('MI')\n",
    "ax.grid(which='both')\n"
   ]
  },
  {
   "cell_type": "markdown",
   "id": "a6c6854c",
   "metadata": {},
   "source": [
    "## Fit models"
   ]
  },
  {
   "cell_type": "markdown",
   "id": "c0183eb6",
   "metadata": {},
   "source": [
    "### Fitting a powerlaw decay model"
   ]
  },
  {
   "cell_type": "code",
   "execution_count": 13,
   "id": "636f340e",
   "metadata": {},
   "outputs": [],
   "source": [
    "from automi import fit_model"
   ]
  },
  {
   "cell_type": "code",
   "execution_count": 14,
   "id": "d4548405",
   "metadata": {},
   "outputs": [
    {
     "data": {
      "text/html": [
       "<h2>Fit Statistics</h2><table><tr><td>fitting method</td><td>leastsq</td><td></td></tr><tr><td># function evals</td><td>96</td><td></td></tr><tr><td># data points</td><td>1000</td><td></td></tr><tr><td># variables</td><td>3</td><td></td></tr><tr><td>chi-square</td><td> 0.75158773</td><td></td></tr><tr><td>reduced chi-square</td><td> 7.5385e-04</td><td></td></tr><tr><td>Akaike info crit.</td><td>-7187.32262</td><td></td></tr><tr><td>Bayesian info crit.</td><td>-7172.59935</td><td></td></tr></table><h2>Variables</h2><table><tr><th> name </th><th> value </th><th> initial value </th><th> min </th><th> max </th><th> vary </th></tr><tr><td> p_init </td><td>  2.05977767 </td><td> 0.5 </td><td>  1.0000e-10 </td><td>         inf </td><td> True </td></tr><tr><td> p_decay_const </td><td> -0.51659360 </td><td> -0.5 </td><td>        -inf </td><td> -1.0000e-10 </td><td> True </td></tr><tr><td> intercept </td><td>  1.9900e-10 </td><td> 1e-05 </td><td>  1.0000e-10 </td><td>         inf </td><td> True </td></tr></table>"
      ],
      "text/plain": [
       "<lmfit.minimizer.MinimizerResult at 0x7f4264bd3910>"
      ]
     },
     "execution_count": 14,
     "metadata": {},
     "output_type": "execute_result"
    }
   ],
   "source": [
    "powerlaw_decay_model, y_powerlaw = fit_model(\n",
    "    distances = range_,\n",
    "    sig = MI - shuff_MI,\n",
    "    decay_function = \"powerlaw\",\n",
    "\n",
    ")\n",
    "powerlaw_decay_model"
   ]
  },
  {
   "cell_type": "code",
   "execution_count": 15,
   "id": "ee28fa7b",
   "metadata": {},
   "outputs": [
    {
     "data": {
      "image/png": "[encoded data removed]",
      "text/plain": [
       "<Figure size 360x360 with 1 Axes>"
      ]
     },
     "metadata": {
      "needs_background": "light"
     },
     "output_type": "display_data"
    }
   ],
   "source": [
    "fig, ax = plt.subplots(ncols=1, figsize=(5,5))\n",
    "ax.scatter(range_, MI - shuff_MI, color = 'k', alpha = 0.25)\n",
    "\n",
    "ax.plot(range_, y_powerlaw, lw=3, color = 'red')\n",
    "\n",
    "ax.set_yscale('log')\n",
    "ax.set_xscale('log')\n",
    "ax.set_xlabel('Sequential distance / lag')\n",
    "ax.set_ylabel('MI')\n",
    "ax.grid(which='both')"
   ]
  },
  {
   "cell_type": "markdown",
   "id": "7847ea45",
   "metadata": {},
   "source": [
    "### Fitting an exponential decay model"
   ]
  },
  {
   "cell_type": "code",
   "execution_count": 16,
   "id": "d0d8997c",
   "metadata": {},
   "outputs": [
    {
     "data": {
      "text/html": [
       "<h2>Fit Statistics</h2><table><tr><td>fitting method</td><td>leastsq</td><td></td></tr><tr><td># function evals</td><td>65</td><td></td></tr><tr><td># data points</td><td>1000</td><td></td></tr><tr><td># variables</td><td>3</td><td></td></tr><tr><td>chi-square</td><td> 2.22848479</td><td></td></tr><tr><td>reduced chi-square</td><td> 0.00223519</td><td></td></tr><tr><td>Akaike info crit.</td><td>-6100.43339</td><td></td></tr><tr><td>Bayesian info crit.</td><td>-6085.71012</td><td></td></tr></table><h2>Variables</h2><table><tr><th> name </th><th> value </th><th> standard error </th><th> relative error </th><th> initial value </th><th> min </th><th> max </th><th> vary </th></tr><tr><td> e_init </td><td>  0.83573750 </td><td>  0.01530239 </td><td> (1.83%) </td><td> 0.5 </td><td>  1.0000e-10 </td><td>         inf </td><td> True </td></tr><tr><td> e_decay_const </td><td>  0.01386267 </td><td>  2.6428e-04 </td><td> (1.91%) </td><td> 0.1 </td><td>  1.0000e-10 </td><td>         inf </td><td> True </td></tr><tr><td> intercept </td><td>  0.07059131 </td><td>  8.4873e-04 </td><td> (1.20%) </td><td> 1e-05 </td><td>  1.0000e-10 </td><td>         inf </td><td> True </td></tr></table><h2>Correlations (unreported correlations are < 0.100)</h2><table><tr><td>e_init</td><td>e_decay_const</td><td>0.5968</td></tr><tr><td>e_decay_const</td><td>intercept</td><td>0.3851</td></tr></table>"
      ],
      "text/plain": [
       "<lmfit.minimizer.MinimizerResult at 0x7f4265ff4910>"
      ]
     },
     "execution_count": 16,
     "metadata": {},
     "output_type": "execute_result"
    }
   ],
   "source": [
    "exponential_decay_model, y_exponential = fit_model(\n",
    "    distances = range_,\n",
    "    sig = MI - shuff_MI,\n",
    "    decay_function = \"exponential\",\n",
    "\n",
    ")\n",
    "exponential_decay_model"
   ]
  },
  {
   "cell_type": "code",
   "execution_count": 17,
   "id": "54822bcd",
   "metadata": {},
   "outputs": [
    {
     "data": {
      "image/png": "[encoded data removed]",
      "text/plain": [
       "<Figure size 360x360 with 1 Axes>"
      ]
     },
     "metadata": {
      "needs_background": "light"
     },
     "output_type": "display_data"
    }
   ],
   "source": [
    "fig, ax = plt.subplots(ncols=1, figsize=(5,5))\n",
    "ax.scatter(range_, MI - shuff_MI, color = 'k', alpha = 0.25)\n",
    "\n",
    "ax.plot(range_, y_exponential, lw=3, color = 'red')\n",
    "\n",
    "ax.set_yscale('log')\n",
    "ax.set_xscale('log')\n",
    "ax.set_xlabel('Sequential distance / lag')\n",
    "ax.set_ylabel('MI')\n",
    "ax.grid(which='both')"
   ]
  },
  {
   "cell_type": "markdown",
   "id": "9833a37d",
   "metadata": {},
   "source": [
    "### Fitting a powerlaw-exponential model"
   ]
  },
  {
   "cell_type": "code",
   "execution_count": 18,
   "id": "7e0ee377",
   "metadata": {},
   "outputs": [
    {
     "data": {
      "text/html": [
       "<h2>Fit Statistics</h2><table><tr><td>fitting method</td><td>leastsq</td><td></td></tr><tr><td># function evals</td><td>106</td><td></td></tr><tr><td># data points</td><td>1000</td><td></td></tr><tr><td># variables</td><td>5</td><td></td></tr><tr><td>chi-square</td><td> 0.08945124</td><td></td></tr><tr><td>reduced chi-square</td><td> 8.9901e-05</td><td></td></tr><tr><td>Akaike info crit.</td><td>-9311.81690</td><td></td></tr><tr><td>Bayesian info crit.</td><td>-9287.27813</td><td></td></tr></table><h2>Variables</h2><table><tr><th> name </th><th> value </th><th> initial value </th><th> min </th><th> max </th><th> vary </th></tr><tr><td> e_init </td><td>  0.20879983 </td><td> 0.5 </td><td>  1.0000e-19 </td><td>         inf </td><td> True </td></tr><tr><td> e_decay_const </td><td>  0.00985121 </td><td> 0.1 </td><td>  1.0000e-10 </td><td>         inf </td><td> True </td></tr><tr><td> p_init </td><td>  1.41021739 </td><td> 0.5 </td><td>  1.0000e-10 </td><td>         inf </td><td> True </td></tr><tr><td> p_decay_const </td><td> -0.47245459 </td><td> -0.5 </td><td>        -inf </td><td> -1.0000e-10 </td><td> True </td></tr><tr><td> intercept </td><td>  4.6584e-09 </td><td> 1e-05 </td><td>  1.0000e-10 </td><td>         inf </td><td> True </td></tr></table>"
      ],
      "text/plain": [
       "<lmfit.minimizer.MinimizerResult at 0x7f424008d490>"
      ]
     },
     "execution_count": 18,
     "metadata": {},
     "output_type": "execute_result"
    }
   ],
   "source": [
    "pow_exp_decay_model, y_pow_exp = fit_model(\n",
    "    distances = range_,\n",
    "    sig = MI - shuff_MI,\n",
    "    decay_function = \"pow_exp\",\n",
    "\n",
    ")\n",
    "pow_exp_decay_model"
   ]
  },
  {
   "cell_type": "code",
   "execution_count": 19,
   "id": "e7bdf62a",
   "metadata": {},
   "outputs": [
    {
     "data": {
      "image/png": "[encoded data removed]",
      "text/plain": [
       "<Figure size 360x360 with 1 Axes>"
      ]
     },
     "metadata": {
      "needs_background": "light"
     },
     "output_type": "display_data"
    }
   ],
   "source": [
    "fig, ax = plt.subplots(ncols=1, figsize=(5,5))\n",
    "ax.scatter(range_, MI - shuff_MI, color = 'k', alpha = 0.25)\n",
    "\n",
    "ax.plot(range_, y_pow_exp, lw=3, color = 'red')\n",
    "\n",
    "ax.set_yscale('log')\n",
    "ax.set_xscale('log')\n",
    "ax.set_xlabel('Sequential distance / lag')\n",
    "ax.set_ylabel('MI')\n",
    "ax.grid(which='both')"
   ]
  },
  {
   "cell_type": "markdown",
   "id": "c1502800",
   "metadata": {},
   "source": [
    "## Model comparison on the basis of AICc\n",
    "For each model, get r2 and AICc. Use those to compute the $\\Delta$AICc. From $\\Delta$AICc, compute the relative likelihood. From relative likelihood, compute relative probability. \n",
    "\n",
    "For more info on comparisons see [AIC model selection and multimodel inference in behavioral ecology: some background, observations, and comparison. Burnham et al., (2011) Behavioral Ecology and Sociobiology](http://dx.doi.org/10.1007/s00265-010-1084-z)"
   ]
  },
  {
   "cell_type": "code",
   "execution_count": 20,
   "id": "16106bd2",
   "metadata": {},
   "outputs": [],
   "source": [
    "from automi.modelfitting.comparison import r2, AICc, compute_relative_likelihoods, compute_relative_probabilities"
   ]
  },
  {
   "cell_type": "code",
   "execution_count": 21,
   "id": "f6310201",
   "metadata": {},
   "outputs": [],
   "source": [
    "sig = MI - shuff_MI\n",
    "distances = range_"
   ]
  },
  {
   "cell_type": "code",
   "execution_count": 22,
   "id": "417f3a68",
   "metadata": {},
   "outputs": [],
   "source": [
    "R2_exp = r2(sig, y_exponential, distances, logscaled=True)\n",
    "R2_pow_exp = r2(sig, y_pow_exp, distances, logscaled=True)\n",
    "R2_power = r2(sig, y_powerlaw, distances, logscaled=True)"
   ]
  },
  {
   "cell_type": "code",
   "execution_count": 23,
   "id": "e3874812",
   "metadata": {},
   "outputs": [
    {
     "data": {
      "text/plain": [
       "[-9311.756542465715, -7187.298519758642, -6100.409294345561]"
      ]
     },
     "execution_count": 23,
     "metadata": {},
     "output_type": "execute_result"
    }
   ],
   "source": [
    "AICc_exp = AICc(\n",
    "    len(distances),\n",
    "    len(exponential_decay_model.params),\n",
    "    sig,\n",
    "    y_exponential,\n",
    "    distances,\n",
    "    logscaled=True,\n",
    ")\n",
    "AICc_pow = AICc(\n",
    "    len(distances),\n",
    "    len(powerlaw_decay_model.params),\n",
    "    sig,\n",
    "    y_powerlaw,\n",
    "    distances,\n",
    "    logscaled=True,\n",
    ")\n",
    "AICc_pow_exp = AICc(\n",
    "    len(distances),\n",
    "    len(pow_exp_decay_model.params),\n",
    "    sig,\n",
    "    y_pow_exp,\n",
    "    distances,\n",
    "    logscaled=True,\n",
    ")\n",
    "AICcs = [AICc_pow_exp, AICc_pow, AICc_exp]\n",
    "AICcs"
   ]
  },
  {
   "cell_type": "code",
   "execution_count": 24,
   "id": "874f0a5c",
   "metadata": {},
   "outputs": [],
   "source": [
    "delta_AICc_pow_exp = AICc_pow_exp - np.min(AICcs)\n",
    "delta_AICc_pow = AICc_pow - np.min(AICcs)\n",
    "delta_AICc_exp = AICc_exp - np.min(AICcs)"
   ]
  },
  {
   "cell_type": "code",
   "execution_count": 25,
   "id": "8d7a4641",
   "metadata": {},
   "outputs": [
    {
     "data": {
      "text/plain": [
       "array([   0.        , 2124.45802271, 3211.34724812])"
      ]
     },
     "execution_count": 25,
     "metadata": {},
     "output_type": "execute_result"
    }
   ],
   "source": [
    "delta_AICcs = np.array([delta_AICc_pow_exp, delta_AICc_pow, delta_AICc_exp]).astype(\n",
    "    np.float64\n",
    ")\n",
    "delta_AICcs"
   ]
  },
  {
   "cell_type": "code",
   "execution_count": 26,
   "id": "1bcf7868",
   "metadata": {},
   "outputs": [
    {
     "data": {
      "text/plain": [
       "array([1., 0., 0.])"
      ]
     },
     "execution_count": 26,
     "metadata": {},
     "output_type": "execute_result"
    }
   ],
   "source": [
    "relative_likelihoods = compute_relative_likelihoods(delta_AICcs)\n",
    "relative_likelihoods"
   ]
  },
  {
   "cell_type": "code",
   "execution_count": 27,
   "id": "e5febfeb",
   "metadata": {},
   "outputs": [
    {
     "data": {
      "text/plain": [
       "array([1., 0., 0.])"
      ]
     },
     "execution_count": 27,
     "metadata": {},
     "output_type": "execute_result"
    }
   ],
   "source": [
    "relative_probabilities = compute_relative_probabilities(relative_likelihoods)\n",
    "relative_probabilities"
   ]
  },
  {
   "cell_type": "markdown",
   "id": "02384799",
   "metadata": {},
   "source": [
    "### Model comparison on the basis of Likelihood Ratio Test"
   ]
  },
  {
   "cell_type": "code",
   "execution_count": 28,
   "id": "7072a762",
   "metadata": {},
   "outputs": [],
   "source": [
    "from automi.modelfitting.comparison import LRT"
   ]
  },
  {
   "cell_type": "code",
   "execution_count": 29,
   "id": "dc22f8f8",
   "metadata": {},
   "outputs": [],
   "source": [
    "LL1, LL2, p = LRT(\n",
    "    true_y = sig,\n",
    "    model1_y = y_powerlaw,\n",
    "    model2_y = y_pow_exp,\n",
    "    model1_nparams  = len(powerlaw_decay_model.params),\n",
    "    model2_nparams = len(pow_exp_decay_model.params),\n",
    "    distances = distances, \n",
    "    logscaled=True\n",
    ")"
   ]
  },
  {
   "cell_type": "code",
   "execution_count": 30,
   "id": "80746c52",
   "metadata": {},
   "outputs": [
    {
     "data": {
      "text/plain": [
       "(3596.661308072092, 4660.908452319377, 0.0)"
      ]
     },
     "execution_count": 30,
     "metadata": {},
     "output_type": "execute_result"
    }
   ],
   "source": [
    "LL1, LL2, p"
   ]
  },
  {
   "cell_type": "code",
   "execution_count": null,
   "id": "3e4c7b7a",
   "metadata": {},
   "outputs": [],
   "source": []
  }
 ],
 "metadata": {
  "kernelspec": {
   "display_name": "automi",
   "language": "python",
   "name": "automi"
  },
  "language_info": {
   "codemirror_mode": {
    "name": "ipython",
    "version": 3
   },
   "file_extension": ".py",
   "mimetype": "text/x-python",
   "name": "python",
   "nbconvert_exporter": "python",
   "pygments_lexer": "ipython3",
   "version": "3.7.11"
  }
 },
 "nbformat": 4,
 "nbformat_minor": 5
}
