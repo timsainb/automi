{
 "cells": [
  {
   "cell_type": "markdown",
   "id": "cc1c9c3d",
   "metadata": {},
   "source": [
    "# Parameters\n",
    "AutoMI has a number of tweakable parameters that will effect the output of your estimation of MI. "
   ]
  },
  {
   "cell_type": "markdown",
   "id": "ad4972c3",
   "metadata": {},
   "source": [
    "### `mi_estimation`\n",
    "\"grassberger\" or \"naive\""
   ]
  },
  {
   "cell_type": "markdown",
   "id": "d940d0d4",
   "metadata": {},
   "source": [
    "### `unclustered_element`\n",
    "In some datasets, it can be useful to ignore 'unknown' states, which are corrupted by noise or some other source of uncertainty. To ignore these states in computing MI, set the \"unclustered_element\" parameter to that state. "
   ]
  },
  {
   "cell_type": "markdown",
   "id": "5efee5e5",
   "metadata": {},
   "source": [
    "### `n_shuff_repeats`\n",
    "Shuffled distributions can be used to estimate the lower-bound on MI. \n",
    "Note that it is also possible to compute the [\"expected mutual information\"](https://github.com/scikit-learn/scikit-learn/blob/7e1e6d09bcc2eaeba98f7e737aac2ac782f0e5f1/sklearn/metrics/cluster/_expected_mutual_info_fast.pyx) instead, which the shuffled MI is approximating. With large numbers of states however, this can be very slow. "
   ]
  },
  {
   "cell_type": "code",
   "execution_count": null,
   "id": "e23458ae",
   "metadata": {},
   "outputs": [],
   "source": []
  }
 ],
 "metadata": {
  "kernelspec": {
   "display_name": "automi",
   "language": "python",
   "name": "automi"
  },
  "language_info": {
   "codemirror_mode": {
    "name": "ipython",
    "version": 3
   },
   "file_extension": ".py",
   "mimetype": "text/x-python",
   "name": "python",
   "nbconvert_exporter": "python",
   "pygments_lexer": "ipython3",
   "version": "3.7.11"
  }
 },
 "nbformat": 4,
 "nbformat_minor": 5
}
