{
 "cells": [
  {
   "cell_type": "markdown",
   "id": "fea62357",
   "metadata": {},
   "source": [
    "# autoMI with PCFG\n",
    "This notebooks generates a probabilistic context free grammar (PCFG) and looks at its autoMI. The PCFG model can be thought of as a recursive Markov model: where the Markov model appends states based upon the current state, the PCFG replaces states based upon the current state.\n",
    "\n",
    "See [Critical Behavior in Physics and Probabilistic Formal Languages. HW Lin, M Tegmark (2017) Entropy](https://doi.org/10.3390/e19070299) for more info."
   ]
  },
  {
   "cell_type": "code",
   "execution_count": 3,
   "id": "6b60b060",
   "metadata": {},
   "outputs": [],
   "source": [
    "%load_ext autoreload\n",
    "%autoreload 2"
   ]
  },
  {
   "cell_type": "code",
   "execution_count": 4,
   "id": "8cae49a1",
   "metadata": {},
   "outputs": [],
   "source": [
    "from matplotlib import mlab\n",
    "import matplotlib.pyplot as plt\n",
    "import numpy as np\n",
    "from tqdm.auto import tqdm"
   ]
  },
  {
   "cell_type": "markdown",
   "id": "eafaf5ce",
   "metadata": {},
   "source": [
    "## Create PCFG and sample sequences"
   ]
  },
  {
   "cell_type": "code",
   "execution_count": 5,
   "id": "ee593c57",
   "metadata": {},
   "outputs": [],
   "source": [
    "def gen_balanced_matrix(na=5, ps=[0.7, 0.2, 0.1]):\n",
    "    \"\"\"Generates a balanced matrix in which every state can reach every other state\n",
    "    for hierarchical and Markov models\n",
    "    \"\"\"\n",
    "    for r in range(1000):\n",
    "        breakme = False\n",
    "        probs = np.zeros((na, na))\n",
    "        for p in ps:\n",
    "            for i in np.arange(na):\n",
    "                ixloc = np.where(\n",
    "                    (probs[i, :] == 0) & (np.sum(probs != p, axis=0) == na)\n",
    "                )[0]\n",
    "                if len(ixloc) > 0:\n",
    "                    probs[i, np.random.permutation(ixloc)[0]] = p\n",
    "                else:\n",
    "                    # the initialization didn't work\n",
    "                    breakme = True\n",
    "        if breakme:\n",
    "            continue\n",
    "        probs = probs / np.sum(probs, axis=0)\n",
    "        return probs\n",
    "    return \"Generation Failed\"\n",
    "\n",
    "\n",
    "def gen_seq_hierarchical(alphabet, probs, depth, n_subsamples):\n",
    "    \"\"\"generates a sequence via the Lin Tegmark recursive model\n",
    "    Arguments:\n",
    "        alphabet {[type]} -- [alphabet of states]\n",
    "        probs {[type]} -- [probability matrix for recursive subsampling]\n",
    "        depth {[type]} -- [how many times to recursively subsample]\n",
    "        n_subsamples {[type]} -- [the number of new elements to recursively replace old elements with]\n",
    "\n",
    "    Returns:\n",
    "        sequence [type] -- [sequence of elements]\n",
    "    \"\"\"\n",
    "    sequence = np.random.choice(\n",
    "        alphabet, p=np.sum(probs, axis=1) / np.sum(probs), size=1\n",
    "    )\n",
    "    if type(depth) == list:\n",
    "        depth = np.random.choice(depth)\n",
    "    depth_list = range(depth)\n",
    "    for i in depth_list:\n",
    "        q = np.random.choice(n_subsamples)\n",
    "        sequence = subsample_sequence(sequence, probs, q, alphabet)\n",
    "    return sequence\n",
    "\n",
    "\n",
    "def subsample_sequence(sequence, probs, q, alphabet):\n",
    "    \"\"\"subsamples a sequence given a probability matrix\n",
    "\n",
    "    given a sequence, resamples each element in that sequences given a probability matrix of sequence element to new elements\n",
    "\n",
    "    Arguments:\n",
    "        sequence {[type]} -- input sequence\n",
    "        probs {[type]} -- the probability matrix\n",
    "        q {[type]} -- the number of items to subsample\n",
    "    \"\"\"\n",
    "    return [\n",
    "        item\n",
    "        for sublist in [\n",
    "            np.random.choice(alphabet, p=probs[:, i], size=q) for i in sequence\n",
    "        ]\n",
    "        for item in sublist\n",
    "    ]"
   ]
  },
  {
   "cell_type": "code",
   "execution_count": 6,
   "id": "04b2c872",
   "metadata": {},
   "outputs": [
    {
     "name": "stdout",
     "output_type": "stream",
     "text": [
      "seq len  1048576.0\n"
     ]
    }
   ],
   "source": [
    "# how many branches to sample in hierarchical\n",
    "n_subsamples = [2]\n",
    "# how many subsamples to perform\n",
    "depth = 20\n",
    "# alphabet size\n",
    "a_n = 2\n",
    "alphabet = np.arange(a_n)\n",
    "# how many sequences to use\n",
    "nseq = 1\n",
    "print('seq len ',(np.mean(n_subsamples)**depth))"
   ]
  },
  {
   "cell_type": "code",
   "execution_count": 7,
   "id": "528decc1",
   "metadata": {},
   "outputs": [],
   "source": [
    "# generate probbility matrix \n",
    "probs = gen_balanced_matrix(na=a_n, ps=[.9, .1])"
   ]
  },
  {
   "cell_type": "code",
   "execution_count": 9,
   "id": "3a6f8172",
   "metadata": {},
   "outputs": [
    {
     "data": {
      "text/plain": [
       "<matplotlib.image.AxesImage at 0x7f5eb68e1210>"
      ]
     },
     "execution_count": 9,
     "metadata": {},
     "output_type": "execute_result"
    },
    {
     "data": {
      "image/png": "[encoded data removed]",
      "text/plain": [
       "<Figure size 288x288 with 1 Axes>"
      ]
     },
     "metadata": {
      "needs_background": "light"
     },
     "output_type": "display_data"
    }
   ],
   "source": [
    "plt.matshow(probs)"
   ]
  },
  {
   "cell_type": "code",
   "execution_count": 11,
   "id": "ca82c722",
   "metadata": {},
   "outputs": [],
   "source": [
    "sequences = gen_seq_hierarchical(alphabet, probs, depth, n_subsamples=n_subsamples)"
   ]
  },
  {
   "cell_type": "code",
   "execution_count": 12,
   "id": "5a81b18c",
   "metadata": {},
   "outputs": [
    {
     "data": {
      "text/plain": [
       "1048576"
      ]
     },
     "execution_count": 12,
     "metadata": {},
     "output_type": "execute_result"
    }
   ],
   "source": [
    "len(sequences)"
   ]
  },
  {
   "cell_type": "markdown",
   "id": "3ba56634",
   "metadata": {},
   "source": [
    "### Auto correlation"
   ]
  },
  {
   "cell_type": "code",
   "execution_count": 20,
   "id": "04522a47",
   "metadata": {},
   "outputs": [],
   "source": [
    "from tqdm.auto import tqdm\n",
    "def autocorrelate(y, range_ = range(1,100)):\n",
    "    return [np.corrcoef(y[i:], y[:-i])[0][1] for i in tqdm(range_)]"
   ]
  },
  {
   "cell_type": "code",
   "execution_count": 21,
   "id": "8f899d18",
   "metadata": {},
   "outputs": [],
   "source": [
    "range_ = np.arange(1,101)"
   ]
  },
  {
   "cell_type": "code",
   "execution_count": 23,
   "id": "481db746",
   "metadata": {},
   "outputs": [
    {
     "data": {
      "application/vnd.jupyter.widget-view+json": {
       "model_id": "4296476b40394e44b52986fc4f858d61",
       "version_major": 2,
       "version_minor": 0
      },
      "text/plain": [
       "  0%|          | 0/100 [00:00<?, ?it/s]"
      ]
     },
     "metadata": {},
     "output_type": "display_data"
    }
   ],
   "source": [
    "# compute autocorrelation over the range of lags\n",
    "autocorr = autocorrelate(sequences, range_)"
   ]
  },
  {
   "cell_type": "code",
   "execution_count": 24,
   "id": "e1b41c64",
   "metadata": {},
   "outputs": [
    {
     "data": {
      "image/png": "[encoded data removed]",
      "text/plain": [
       "<Figure size 720x360 with 2 Axes>"
      ]
     },
     "metadata": {
      "needs_background": "light"
     },
     "output_type": "display_data"
    }
   ],
   "source": [
    "# plot the autocorrelation in log-log and linear\n",
    "fig, axs = plt.subplots(ncols=2, figsize=(10,5))\n",
    "ax = axs[0]\n",
    "ax.plot(range_, autocorr)\n",
    "ax.set_xlabel('Sequential distance / lag')\n",
    "ax.set_ylabel('Correlation')\n",
    "ax.set_yscale('log')\n",
    "ax.set_xscale('log')\n",
    "ax.grid(which='both')\n",
    "\n",
    "ax = axs[1]\n",
    "ax.plot(range_, autocorr)\n",
    "ax.set_xlabel('Sequential distance / lag')\n",
    "ax.set_ylabel('Correlation')\n",
    "ax.grid(which='both')"
   ]
  },
  {
   "cell_type": "markdown",
   "id": "5bb36205",
   "metadata": {},
   "source": [
    "### Now, lets look at the AutoMI"
   ]
  },
  {
   "cell_type": "code",
   "execution_count": 14,
   "id": "aafdd6af",
   "metadata": {},
   "outputs": [],
   "source": [
    "from automutualinformation import sequential_mutual_information as smi"
   ]
  },
  {
   "cell_type": "code",
   "execution_count": 18,
   "id": "3c3a4382",
   "metadata": {},
   "outputs": [
    {
     "data": {
      "application/vnd.jupyter.widget-view+json": {
       "model_id": "",
       "version_major": 2,
       "version_minor": 0
      },
      "text/plain": [
       "  0%|          | 0/100 [00:00<?, ?it/s]"
      ]
     },
     "metadata": {},
     "output_type": "display_data"
    },
    {
     "name": "stderr",
     "output_type": "stream",
     "text": [
      "[Parallel(n_jobs=-1)]: Using backend LokyBackend with 8 concurrent workers.\n",
      "[Parallel(n_jobs=-1)]: Done   2 tasks      | elapsed:    1.2s\n",
      "[Parallel(n_jobs=-1)]: Done  56 tasks      | elapsed:    3.2s\n",
      "[Parallel(n_jobs=-1)]: Done 100 out of 100 | elapsed:    4.7s finished\n"
     ]
    },
    {
     "data": {
      "application/vnd.jupyter.widget-view+json": {
       "model_id": "",
       "version_major": 2,
       "version_minor": 0
      },
      "text/plain": [
       "  0%|          | 0/100 [00:00<?, ?it/s]"
      ]
     },
     "metadata": {},
     "output_type": "display_data"
    },
    {
     "name": "stderr",
     "output_type": "stream",
     "text": [
      "[Parallel(n_jobs=-1)]: Using backend LokyBackend with 8 concurrent workers.\n",
      "[Parallel(n_jobs=-1)]: Done   2 tasks      | elapsed:    0.3s\n",
      "[Parallel(n_jobs=-1)]: Done  56 tasks      | elapsed:    2.5s\n",
      "[Parallel(n_jobs=-1)]: Done 100 out of 100 | elapsed:    4.2s finished\n"
     ]
    }
   ],
   "source": [
    "(MI, _), (shuff_MI, _) = smi(\n",
    "    [sequences], distances=range_\n",
    ")"
   ]
  },
  {
   "cell_type": "code",
   "execution_count": 19,
   "id": "6fd51853",
   "metadata": {},
   "outputs": [
    {
     "data": {
      "image/png": "[encoded data removed]",
      "text/plain": [
       "<Figure size 720x360 with 2 Axes>"
      ]
     },
     "metadata": {
      "needs_background": "light"
     },
     "output_type": "display_data"
    }
   ],
   "source": [
    "fig, axs = plt.subplots(ncols=2, figsize=(10,5))\n",
    "ax = axs[0]\n",
    "ax.plot(range_, MI - shuff_MI)\n",
    "ax.set_yscale('log')\n",
    "ax.set_xscale('log')\n",
    "ax.set_xlabel('MI')\n",
    "ax.set_xlabel('Sequential distance / lag')\n",
    "ax.set_ylabel('MI')\n",
    "ax.grid(which='both')\n",
    "\n",
    "ax = axs[1]\n",
    "ax.plot(range_, MI - shuff_MI)\n",
    "ax.set_xlabel('MI')\n",
    "ax.set_xlabel('Sequential distance / lag')\n",
    "ax.set_ylabel('MI')\n",
    "ax.grid(which='both')"
   ]
  }
 ],
 "metadata": {
  "kernelspec": {
   "display_name": "automi",
   "language": "python",
   "name": "automi"
  },
  "language_info": {
   "codemirror_mode": {
    "name": "ipython",
    "version": 3
   },
   "file_extension": ".py",
   "mimetype": "text/x-python",
   "name": "python",
   "nbconvert_exporter": "python",
   "pygments_lexer": "ipython3",
   "version": "3.7.11"
  }
 },
 "nbformat": 4,
 "nbformat_minor": 5
}
